{
  "nbformat": 4,
  "nbformat_minor": 0,
  "metadata": {
    "colab": {
      "provenance": [],
      "gpuType": "T4"
    },
    "kernelspec": {
      "name": "python3",
      "display_name": "Python 3"
    },
    "language_info": {
      "name": "python"
    },
    "accelerator": "GPU"
  },
  "cells": [
    {
      "cell_type": "markdown",
      "source": [
        "# **Exercise 5, Advanced Deep Learning**\n",
        "\n",
        "Eetu Karttunen\n",
        "\n",
        "Implementation of image data augmentation:\n",
        "1. Construct your own convolutional neural network, train the network with CIFAR10 dataset, then\n",
        "test the classification result of the implementation of horizontal and vertical flip augmentation\n",
        "technique on “dog.jpg” image.\n",
        "CIFAR10 database link: https://www.cs.toronto.edu/~kriz/cifar.html\n",
        "\n",
        "2. Construct your own convolutional neural network, train the network with MNIST dataset, then test\n",
        "the classification result of the implementation of rotation augmentation technique on\n",
        "“handwritten6.jpg” image.\n",
        "MNIST database link: http://yann.lecun.com/exdb/mnist/\n",
        "\n",
        "The code is splitted into two parts to answer both tasks."
      ],
      "metadata": {
        "id": "YUkFlzKG6c9F"
      }
    },
    {
      "cell_type": "markdown",
      "source": [
        "# CNN with CIFAR 10 (horizontal and vertical flip augmentation)"
      ],
      "metadata": {
        "id": "5vjrY0rm7DH6"
      }
    },
    {
      "cell_type": "code",
      "execution_count": 2,
      "metadata": {
        "colab": {
          "base_uri": "https://localhost:8080/",
          "height": 869
        },
        "id": "wPpHABaQwOBz",
        "outputId": "aeffd243-0b17-4b97-f0c2-cd6c61ca8a0a"
      },
      "outputs": [
        {
          "output_type": "stream",
          "name": "stdout",
          "text": [
            "Mounted at /content/gdrive\n",
            "Downloading data from https://www.cs.toronto.edu/~kriz/cifar-10-python.tar.gz\n",
            "170498071/170498071 [==============================] - 2s 0us/step\n",
            "Epoch 1/10\n",
            "1563/1563 [==============================] - 25s 8ms/step - loss: 1.5513 - accuracy: 0.4340 - val_loss: 1.3124 - val_accuracy: 0.5339\n",
            "Epoch 2/10\n",
            "1563/1563 [==============================] - 9s 6ms/step - loss: 1.1592 - accuracy: 0.5870 - val_loss: 1.0845 - val_accuracy: 0.6107\n",
            "Epoch 3/10\n",
            "1563/1563 [==============================] - 11s 7ms/step - loss: 1.0151 - accuracy: 0.6416 - val_loss: 1.0141 - val_accuracy: 0.6456\n",
            "Epoch 4/10\n",
            "1563/1563 [==============================] - 10s 7ms/step - loss: 0.9174 - accuracy: 0.6766 - val_loss: 0.9320 - val_accuracy: 0.6727\n",
            "Epoch 5/10\n",
            "1563/1563 [==============================] - 9s 6ms/step - loss: 0.8475 - accuracy: 0.7025 - val_loss: 0.9133 - val_accuracy: 0.6831\n",
            "Epoch 6/10\n",
            "1563/1563 [==============================] - 10s 7ms/step - loss: 0.7889 - accuracy: 0.7247 - val_loss: 0.8897 - val_accuracy: 0.6912\n",
            "Epoch 7/10\n",
            "1563/1563 [==============================] - 9s 6ms/step - loss: 0.7428 - accuracy: 0.7399 - val_loss: 0.8773 - val_accuracy: 0.6995\n",
            "Epoch 8/10\n",
            "1563/1563 [==============================] - 10s 6ms/step - loss: 0.6977 - accuracy: 0.7559 - val_loss: 0.8836 - val_accuracy: 0.7061\n",
            "Epoch 9/10\n",
            "1563/1563 [==============================] - 9s 6ms/step - loss: 0.6554 - accuracy: 0.7699 - val_loss: 0.8708 - val_accuracy: 0.7055\n",
            "Epoch 10/10\n",
            "1563/1563 [==============================] - 9s 6ms/step - loss: 0.6163 - accuracy: 0.7825 - val_loss: 0.8836 - val_accuracy: 0.6997\n",
            "1/1 [==============================] - 0s 266ms/step\n"
          ]
        },
        {
          "output_type": "display_data",
          "data": {
            "text/plain": [
              "<Figure size 640x480 with 1 Axes>"
            ],
            "image/png": "[encoded data removed]"
          },
          "metadata": {}
        }
      ],
      "source": [
        "import tensorflow as tf\n",
        "from tensorflow.keras import layers, models\n",
        "from tensorflow.keras.preprocessing import image\n",
        "from tensorflow.keras.preprocessing.image import ImageDataGenerator\n",
        "import matplotlib.pyplot as plt\n",
        "\n",
        "from google.colab import drive\n",
        "drive.mount('/content/gdrive')\n",
        "\n",
        "# Loading CIFAR10\n",
        "cifar10 = tf.keras.datasets.cifar10\n",
        "(trainImages, trainLabels), (testImages, testLabels) = cifar10.load_data()\n",
        "\n",
        "# Normalizing pixel values between 0 and 1\n",
        "trainImages, testImages = trainImages / 255.0, testImages / 255.0\n",
        "\n",
        "# Defining the CNN\n",
        "cnnModel = models.Sequential([\n",
        "    layers.Conv2D(32, (3, 3), activation='relu', input_shape=(32, 32, 3)),\n",
        "    layers.MaxPooling2D((2, 2)),\n",
        "    layers.Conv2D(64, (3, 3), activation='relu'),\n",
        "    layers.MaxPooling2D((2, 2)),\n",
        "    layers.Conv2D(64, (3, 3), activation='relu'),\n",
        "    layers.Flatten(),\n",
        "    layers.Dense(64, activation='relu'),\n",
        "    layers.Dense(10)\n",
        "])\n",
        "\n",
        "# Compiling\n",
        "cnnModel.compile(optimizer='adam',\n",
        "                 loss=tf.keras.losses.SparseCategoricalCrossentropy(from_logits=True),\n",
        "                 metrics=['accuracy'])\n",
        "\n",
        "# Training\n",
        "cnnModel.fit(trainImages, trainLabels, epochs=10, validation_data=(testImages, testLabels))\n",
        "\n",
        "# Loading picture and doing the preprocessing\n",
        "dogImagePath = \"/content/gdrive/MyDrive/Colab Notebooks/dog.jpg\"\n",
        "dogImg = image.load_img(dogImagePath, target_size=(32, 32))\n",
        "dogImgArray = image.img_to_array(dogImg)\n",
        "dogImgArray = tf.expand_dims(dogImgArray, 0)\n",
        "dogImgArray /= 255.0\n",
        "\n",
        "# Augmenting the image to horizontal and verfical flip.\n",
        "dataGenerator = ImageDataGenerator(horizontal_flip=True, vertical_flip=True)\n",
        "augmentedDogImg = dataGenerator.flow(dogImgArray)\n",
        "\n",
        "# Predicting the class of the image.\n",
        "predictions = cnnModel.predict(augmentedDogImg)\n",
        "predictedClass = tf.argmax(predictions[0]).numpy()\n",
        "\n",
        "# Displaying the results.\n",
        "plt.imshow(dogImg)\n",
        "plt.title(f\"Predicted Class: {predictedClass}\")\n",
        "plt.show()\n"
      ]
    },
    {
      "cell_type": "markdown",
      "source": [
        "# CNN with MNIST (rotation augmentation technique)"
      ],
      "metadata": {
        "id": "RWgXSH-l8DCz"
      }
    },
    {
      "cell_type": "code",
      "source": [
        "import tensorflow as tf\n",
        "from tensorflow.keras import layers, models\n",
        "from tensorflow.keras.preprocessing import image\n",
        "from tensorflow.keras.preprocessing.image import ImageDataGenerator\n",
        "import matplotlib.pyplot as plt\n",
        "\n",
        "from google.colab import drive\n",
        "drive.mount('/content/gdrive')\n",
        "\n",
        "# Load MNIST dataset\n",
        "mnist = tf.keras.datasets.mnist\n",
        "(trainImages, trainLabels), (testImages, testLabels) = mnist.load_data()\n",
        "\n",
        "# Normalize pixel values to be between 0 and 1\n",
        "trainImages, testImages = trainImages / 255.0, testImages / 255.0\n",
        "\n",
        "# Define the CNN model\n",
        "cnnModel = models.Sequential([\n",
        "    layers.Flatten(input_shape=(28, 28)),\n",
        "    layers.Dense(128, activation='relu'),\n",
        "    layers.Dropout(0.2),\n",
        "    layers.Dense(10)\n",
        "])\n",
        "\n",
        "# Compile the model\n",
        "cnnModel.compile(optimizer='adam',\n",
        "                 loss=tf.keras.losses.SparseCategoricalCrossentropy(from_logits=True),\n",
        "                 metrics=['accuracy'])\n",
        "\n",
        "# Train the model\n",
        "cnnModel.fit(trainImages, trainLabels, epochs=5)\n",
        "\n",
        "# Load and preprocess the handwritten image\n",
        "handwrittenImagePath = \"/content/gdrive/MyDrive/Colab Notebooks/handwritten6.jpg\"\n",
        "handwrittenImg = image.load_img(handwrittenImagePath, target_size=(28, 28), color_mode=\"grayscale\")\n",
        "handwrittenImgArray = image.img_to_array(handwrittenImg)\n",
        "handwrittenImgArray = tf.expand_dims(handwrittenImgArray, 0)\n",
        "handwrittenImgArray /= 255.0\n",
        "\n",
        "# Augment the image\n",
        "dataGenerator = ImageDataGenerator(rotation_range=30)\n",
        "augmentedHandwrittenImg = dataGenerator.flow(handwrittenImgArray)\n",
        "\n",
        "# Predict the class of the augmented image\n",
        "predictions = cnnModel.predict(augmentedHandwrittenImg)\n",
        "predictedClass = tf.argmax(predictions[0]).numpy()\n",
        "\n",
        "# Display the result\n",
        "plt.imshow(handwrittenImg, cmap='gray')\n",
        "plt.title(f\"Predicted Class: {predictedClass}\")\n",
        "plt.show()\n"
      ],
      "metadata": {
        "colab": {
          "base_uri": "https://localhost:8080/",
          "height": 710
        },
        "id": "2jZ9AieT02pt",
        "outputId": "1e494791-02e1-47d7-807a-0fd6d24ce073"
      },
      "execution_count": null,
      "outputs": [
        {
          "output_type": "stream",
          "name": "stdout",
          "text": [
            "Drive already mounted at /content/gdrive; to attempt to forcibly remount, call drive.mount(\"/content/gdrive\", force_remount=True).\n",
            "Downloading data from https://storage.googleapis.com/tensorflow/tf-keras-datasets/mnist.npz\n",
            "11490434/11490434 [==============================] - 1s 0us/step\n",
            "Epoch 1/5\n",
            "1875/1875 [==============================] - 8s 3ms/step - loss: 0.2919 - accuracy: 0.9157\n",
            "Epoch 2/5\n",
            "1875/1875 [==============================] - 6s 3ms/step - loss: 0.1434 - accuracy: 0.9573\n",
            "Epoch 3/5\n",
            "1875/1875 [==============================] - 5s 3ms/step - loss: 0.1066 - accuracy: 0.9678\n",
            "Epoch 4/5\n",
            "1875/1875 [==============================] - 6s 3ms/step - loss: 0.0886 - accuracy: 0.9729\n",
            "Epoch 5/5\n",
            "1875/1875 [==============================] - 6s 3ms/step - loss: 0.0766 - accuracy: 0.9763\n",
            "1/1 [==============================] - 0s 56ms/step\n"
          ]
        },
        {
          "output_type": "display_data",
          "data": {
            "text/plain": [
              "<Figure size 640x480 with 1 Axes>"
            ],
            "image/png": "[encoded data removed]"
          },
          "metadata": {}
        }
      ]
    }
  ]
}